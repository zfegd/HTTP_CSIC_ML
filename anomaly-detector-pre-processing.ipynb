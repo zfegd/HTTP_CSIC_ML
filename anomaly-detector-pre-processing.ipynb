{
 "cells": [
  {
   "cell_type": "code",
   "execution_count": 1,
   "metadata": {},
   "outputs": [],
   "source": [
    "import numpy as np\n",
    "import pandas as pd"
   ]
  },
  {
   "cell_type": "code",
   "execution_count": 87,
   "metadata": {},
   "outputs": [],
   "source": [
    "# def extract_ext(uri):\n",
    "#     ext = uri.split('.')[1]\n",
    "#     return ext\n",
    "\n",
    "# dataframe['URI_Ext'] = dataframe['Request_Address'].apply(extract_ext)"
   ]
  },
  {
   "cell_type": "code",
   "execution_count": 9,
   "metadata": {},
   "outputs": [],
   "source": [
    "def process_txt_to_csv(file_name):\n",
    "    type_req = \"\"\n",
    "    if file_name[0] == 'n':\n",
    "        type_req = \"Yes\"\n",
    "    elif file_name[0] == 'a':\n",
    "        type_req = \"No\"\n",
    "    else:\n",
    "        print(\"Error in file chosen!\")\n",
    "    \n",
    "    list_of_entries = []\n",
    "    this_entry = []\n",
    "\n",
    "    with open(\"%s.txt\" %file_name) as g:\n",
    "        for line in g:\n",
    "            spl_line = line.split()\n",
    "            if len(spl_line)==0 and len(this_entry)>0:\n",
    "                if len(this_entry)==1:\n",
    "                    this_entry=[]\n",
    "                    continue\n",
    "                list_of_entries.append(this_entry)\n",
    "                this_entry = []\n",
    "            elif len(spl_line)==0 and len(list_of_entries)>0:\n",
    "                continue\n",
    "            else :\n",
    "                this_entry.append(spl_line)\n",
    "    \n",
    "    df_columns = ['Request_Type', 'Request_Address','Request_Protocol','User-Agent', 'Pragma', 'Cache-control', 'Accept', 'Accept-Encoding', 'Accept-Charset', 'Accept-Language', 'Host', 'Cookie', 'Content-Type','Connection', 'Content-Length', 'Normal_Access']\n",
    "    dataframe = pd.DataFrame(columns=df_columns)\n",
    "    \n",
    "    for entry in list_of_entries:\n",
    "        this_request = [None for x in range(len(df_columns))]\n",
    "        this_request[15] = type_req\n",
    "        num_fields = len(entry)\n",
    "\n",
    "        for field_no in range(num_fields):\n",
    "            current_field = entry[field_no]\n",
    "            header_field = current_field[0]\n",
    "            if header_field == 'GET' or header_field == 'POST' or header_field == 'PUT':\n",
    "                this_request[0] = header_field\n",
    "                this_request[1] = current_field[1]\n",
    "                this_request[2] = current_field[2]\n",
    "            elif header_field == 'User-Agent:':\n",
    "                user_agent_field = current_field[1]\n",
    "                for next_str in current_field[2:]:\n",
    "                    user_agent_field = user_agent_field + \" \" + next_str\n",
    "                this_request[3] = user_agent_field\n",
    "            elif header_field == 'Pragma:':\n",
    "                this_request[4] = current_field[1]\n",
    "            elif header_field == 'Cache-control:':\n",
    "                this_request[5] = current_field[1]\n",
    "            elif header_field == 'Accept:':\n",
    "                this_request[6] = current_field[1]\n",
    "            elif header_field == 'Accept-Encoding:':\n",
    "                accept_encoding_field = current_field[1]\n",
    "                for next_str in current_field[2:]:\n",
    "                    accept_encoding_field = accept_encoding_field + \" \" + next_str\n",
    "                this_request[7] = accept_encoding_field\n",
    "            elif header_field == 'Accept-Charset:':\n",
    "                accept_charset_field = current_field[1]\n",
    "                for next_str in current_field[2:]:\n",
    "                    accept_charset_field = accept_charset_field + \" \" + next_str\n",
    "                this_request[8] = accept_charset_field\n",
    "            elif header_field == 'Accept-Language:':\n",
    "                this_request[9] = current_field[1]\n",
    "            elif header_field == 'Host:':\n",
    "                this_request[10] = current_field[1]\n",
    "            elif header_field == 'Cookie:':\n",
    "                this_request[11] = current_field[1]\n",
    "            elif header_field == 'Content-Type:':\n",
    "                this_request[12] = current_field[1]\n",
    "            elif header_field == 'Connection:':\n",
    "                this_request[13] = current_field[1]\n",
    "            elif header_field == 'Content-Length:':\n",
    "                this_request[14] = current_field[1]\n",
    "            else:\n",
    "                if header_field[:7] == \"Accept:\":\n",
    "                    this_request[6] = header_field[7:]\n",
    "                else:\n",
    "                    print(\"Unknown header field: \")\n",
    "\n",
    "        new_entry = pd.DataFrame([this_request], columns=df_columns)\n",
    "        dataframe = dataframe.append(new_entry, ignore_index=True)\n",
    "    \n",
    "    dataframe.to_csv('%s_http_requests.csv' %file_name)"
   ]
  },
  {
   "cell_type": "code",
   "execution_count": 101,
   "metadata": {},
   "outputs": [],
   "source": [
    "process_txt_to_csv(\"normalTrafficTraining\")"
   ]
  },
  {
   "cell_type": "code",
   "execution_count": 10,
   "metadata": {},
   "outputs": [],
   "source": [
    "process_txt_to_csv(\"anomalousTrafficTest\")\n",
    "process_txt_to_csv(\"normalTrafficTest\")"
   ]
  }
 ],
 "metadata": {
  "kernelspec": {
   "display_name": "Python 2",
   "language": "python",
   "name": "python2"
  },
  "language_info": {
   "codemirror_mode": {
    "name": "ipython",
    "version": 2
   },
   "file_extension": ".py",
   "mimetype": "text/x-python",
   "name": "python",
   "nbconvert_exporter": "python",
   "pygments_lexer": "ipython2",
   "version": "2.7.15"
  }
 },
 "nbformat": 4,
 "nbformat_minor": 2
}
